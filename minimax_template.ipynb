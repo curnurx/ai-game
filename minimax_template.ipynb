{
 "cells": [
  {
   "cell_type": "markdown",
   "metadata": {},
   "source": [
    "Minimax Algorithm(Alpha-Beta Pruning) Template Code\n",
    "- terms\n",
    "    - state(node)\n",
    "    - move(action)\n",
    "    - terminal\n",
    "    - score(heuristic)\n",
    "\n",
    "Note that getScore() function always will be implemented for Enemy turn (except for terminals).\n"
   ]
  },
  {
   "cell_type": "markdown",
   "metadata": {},
   "source": [
    "First,\n",
    "Implement the code cells below:"
   ]
  },
  {
   "cell_type": "code",
   "execution_count": null,
   "metadata": {},
   "outputs": [],
   "source": [
    "def isTerminal(state):\n",
    "\n",
    "    return \n",
    "\n",
    "def getValidMoves(state):\n",
    "\n",
    "    return\n",
    "\n",
    "def getNextState(state, move):\n",
    "\n",
    "    return\n",
    "\n",
    "def getScore(state):\n",
    "\n",
    "    return"
   ]
  },
  {
   "cell_type": "markdown",
   "metadata": {},
   "source": [
    "Then, call getBestMove(state, depth).\n",
    "Note that depth must be a multiplex of 2."
   ]
  },
  {
   "cell_type": "code",
   "execution_count": null,
   "metadata": {},
   "outputs": [],
   "source": [
    "def alphabeta(state, depth, a, b, maximizingPlayer):\n",
    "    if depth == 0 or isTerminal(state):\n",
    "        return getScore(state)\n",
    "    \n",
    "    valid_moves = getValidMoves(state)\n",
    "    \n",
    "    if maximizingPlayer:\n",
    "        v = -1e9\n",
    "        for move in valid_moves:\n",
    "            next_state = getNextState(state, move)\n",
    "            v = max(v, alphabeta(next_state, depth - 1, a, b, False))\n",
    "            a = max(a, v)\n",
    "            if a >= b:\n",
    "                break\n",
    "    else:\n",
    "        v = 1e9\n",
    "        for move in valid_moves:\n",
    "            next_state = getNextState(state, move)\n",
    "            v = min(v, alphabeta(next_state, depth - 1, a, b, True))\n",
    "            b = min(b, v)\n",
    "            if a >= b:\n",
    "                break    \n",
    "    return v\n",
    "\n",
    "    \n",
    "\n",
    "\n",
    "def getBestMove(state, depth):\n",
    "    if depth % 2 == 0:\n",
    "        print(\"Invalid\")\n",
    "        return None\n",
    "    valid_moves = getValidMoves(state)\n",
    "    bestmove = (-1e9, None)\n",
    "    for move in valid_moves:\n",
    "        next_state = getNextState(state, move)\n",
    "        bestmove = max(bestmove, (alphabeta(next_state, depth - 1, -1e9, 1e9, False), move))\n",
    "    return bestmove[1]\n"
   ]
  }
 ],
 "metadata": {
  "kernelspec": {
   "display_name": "Python 3.10.5 64-bit",
   "language": "python",
   "name": "python3"
  },
  "language_info": {
   "name": "python",
   "version": "3.10.5"
  },
  "orig_nbformat": 4,
  "vscode": {
   "interpreter": {
    "hash": "25bc42e46a21f58f9d022f5b2258876498988b14d7c9d08f60294095f22ebb45"
   }
  }
 },
 "nbformat": 4,
 "nbformat_minor": 2
}
